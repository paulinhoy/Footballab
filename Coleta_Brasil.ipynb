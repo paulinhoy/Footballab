{
 "cells": [
  {
   "cell_type": "code",
   "execution_count": 15,
   "metadata": {},
   "outputs": [],
   "source": [
    "import requests\n",
    "import pandas as pd\n",
    "from dotenv import load_dotenv\n",
    "import os\n",
    "\n",
    "load_dotenv()\n",
    "key = os.getenv(\"API_KEY_FOOTBALL\")\n",
    "pd.set_option('display.max_columns', None)"
   ]
  },
  {
   "cell_type": "markdown",
   "metadata": {},
   "source": [
    "# Configuração de cabeçalho, chave e host\n"
   ]
  },
  {
   "cell_type": "code",
   "execution_count": 16,
   "metadata": {},
   "outputs": [],
   "source": [
    "headers = {\n",
    "    \"x-rapidapi-host\": \"v3.football.api-sports.io\",\n",
    "    \"x-rapidapi-key\": key  # Substitua pela sua chave de API\n",
    "}"
   ]
  },
  {
   "cell_type": "code",
   "execution_count": 17,
   "metadata": {},
   "outputs": [],
   "source": [
    "liga = 'Camp_Brasileiro'\n",
    "season = '2017'"
   ]
  },
  {
   "cell_type": "code",
   "execution_count": 18,
   "metadata": {},
   "outputs": [],
   "source": [
    "params = {\n",
    "    \"league\": 71,  # ID da liga que analisaremos (71 = Campeonato Brasileiro)\n",
    "    \"season\": 2017  # Temporada\n",
    "}"
   ]
  },
  {
   "cell_type": "markdown",
   "metadata": {},
   "source": [
    "# Resultado de todos os jogos"
   ]
  },
  {
   "cell_type": "code",
   "execution_count": 19,
   "metadata": {},
   "outputs": [],
   "source": [
    "url_jogos = \"https://v3.football.api-sports.io/fixtures/\"\n",
    "\n",
    "# Requisição GET\n",
    "response = requests.get(url_jogos, headers=headers, params=params)\n",
    "\n",
    "#Salvando os dados json\n",
    "dados = response.json()\n",
    "\n",
    "df = pd.DataFrame(dados['response'])\n",
    "\n",
    "#Deixando em um formato legivel\n",
    "\n",
    "df_expanded = pd.concat([\n",
    "    pd.json_normalize(df['fixture']),  # Expandir informações de 'fixture'\n",
    "    pd.json_normalize(df['league']),  # Expandir informações de 'league'\n",
    "    pd.json_normalize(df['teams']),   # Expandir informações de 'teams'\n",
    "    pd.json_normalize(df['goals']),   # Expandir informações de 'goals'\n",
    "    pd.json_normalize(df['score'])    # Expandir informações de 'score'\n",
    "], axis=1)\n",
    "\n",
    "#Formatando o nome das colunas\n",
    "\n",
    "df_expanded = df_expanded[['id','referee','date','venue.name','home.name','home.id','away.name','away.id','home.winner','home','away','halftime.home','halftime.away']]\n",
    "df_games = df_expanded\n",
    "df_games.columns = ['id_partida', 'id_league','referee', 'date', 'venue.name', 'home.name', 'home.id', 'away.name',\n",
    "       'away.id', 'home.winner', 'home', 'away', 'halftime.home',\n",
    "       'halftime.away']\n",
    "\n",
    "#Salvando csv\n",
    "df_games.to_csv(f'Data/{liga}_{season}.csv', index=False)"
   ]
  },
  {
   "cell_type": "markdown",
   "metadata": {},
   "source": [
    "- Vou Precisar de todos os id_partida para localizar outros dados"
   ]
  },
  {
   "cell_type": "code",
   "execution_count": 20,
   "metadata": {},
   "outputs": [],
   "source": [
    "fixture_ids = df_games['id_partida'].tolist()"
   ]
  },
  {
   "cell_type": "markdown",
   "metadata": {},
   "source": [
    "# Request de todos os dados dos TIMES durante uma id_partida\n",
    "\n",
    "- Coletando os dados"
   ]
  },
  {
   "cell_type": "code",
   "execution_count": 21,
   "metadata": {},
   "outputs": [],
   "source": [
    "#Request dos dados das partidas\n",
    "\n",
    "# Criando uma lista vazia para armazenar as estatísticas\n",
    "all_stats = []\n",
    "\n",
    "#De onde vou puxar as estatisticas da partida\n",
    "url_stats = \"https://v3.football.api-sports.io/fixtures/statistics\"\n",
    "\n",
    "#Varrendo os id_partidas\n",
    "for fixture_id in fixture_ids:\n",
    "    # Parâmetros da requisição\n",
    "    params = {\"fixture\": fixture_id}\n",
    "    \n",
    "    # Requisição GET\n",
    "    response = requests.get(url_stats, headers=headers, params=params)\n",
    "    stats_data = response.json().get(\"response\", [])\n",
    "    all_stats.append({\n",
    "    \"fixture_id\": fixture_id,\n",
    "    \"stats\": stats_data\n",
    "        })"
   ]
  },
  {
   "cell_type": "markdown",
   "metadata": {},
   "source": [
    "- Processando os dados e salvando csv"
   ]
  },
  {
   "cell_type": "code",
   "execution_count": 22,
   "metadata": {},
   "outputs": [],
   "source": [
    "# Lista para armazenar os dados processados\n",
    "processed_data = []\n",
    "\n",
    "# Iterar sobre cada partida em all_stats\n",
    "for match in all_stats:\n",
    "    fixture_id = match['fixture_id']\n",
    "    \n",
    "    # Iterar sobre as estatísticas de cada time\n",
    "    for team_stats in match['stats']:\n",
    "        team_id = team_stats['team']['id']\n",
    "        team_name = team_stats['team']['name']\n",
    "        \n",
    "        # Criar um dicionário para armazenar os dados do time\n",
    "        team_data = {\n",
    "            'fixture_id': fixture_id,\n",
    "            'team_id': team_id,\n",
    "            'team_name': team_name\n",
    "        }\n",
    "        \n",
    "        # Adicionar as estatísticas ao dicionário\n",
    "        for stat in team_stats['statistics']:\n",
    "            stat_type = stat['type'].lower().replace(' ', '_')  # Padroniza o nome da coluna\n",
    "            stat_value = stat['value']\n",
    "            team_data[stat_type] = stat_value\n",
    "        \n",
    "        # Adicionar o dicionário à lista processada\n",
    "        processed_data.append(team_data)\n",
    "\n",
    "# Criar o DataFrame\n",
    "df_statistics_games = pd.DataFrame(processed_data)\n",
    "\n",
    "#Salvando csv\n",
    "df_statistics_games.to_csv(f'Data/{liga}_{season}_team_stats.csv', index=False)"
   ]
  },
  {
   "cell_type": "markdown",
   "metadata": {},
   "source": [
    "# Eventos que acontecem durante o jogo:\n",
    "\n",
    "- Gols    \n",
    "- Assistências\n",
    "- Cartões\n",
    "- Acréscimo\n",
    "- Substituições"
   ]
  },
  {
   "cell_type": "markdown",
   "metadata": {},
   "source": [
    "# Request"
   ]
  },
  {
   "cell_type": "code",
   "execution_count": 23,
   "metadata": {},
   "outputs": [],
   "source": [
    "#Eventos que ocorreram durante o jogo \n",
    "url_events = \"https://v3.football.api-sports.io/fixtures/events\"\n",
    "\n",
    "# Criar uma lista para armazenar os eventos\n",
    "all_events = []\n",
    "\n",
    "# Loop para buscar eventos de cada partida\n",
    "for fixture_id in fixture_ids:\n",
    "    # Parâmetros da requisição\n",
    "    params = {\"fixture\": fixture_id}\n",
    "    \n",
    "    # Requisição GET\n",
    "    response = requests.get(url_events, headers=headers, params=params)\n",
    "    \n",
    "    if response.status_code == 200:\n",
    "        events_data = response.json().get(\"response\", [])\n",
    "        \n",
    "        # Adicionar os eventos ao array\n",
    "        all_events.append({\n",
    "            \"fixture_id\": fixture_id,\n",
    "            \"events\": events_data\n",
    "        })\n",
    "    else:\n",
    "        print(f\"Erro ao buscar eventos para fixture_id {fixture_id}: {response.status_code}\")"
   ]
  },
  {
   "cell_type": "markdown",
   "metadata": {},
   "source": [
    "- Processando e salvando csv"
   ]
  },
  {
   "cell_type": "code",
   "execution_count": 24,
   "metadata": {},
   "outputs": [],
   "source": [
    "# Lista para armazenar os eventos processados\n",
    "rows = []\n",
    "\n",
    "# Iterar sobre cada fixture e seus eventos\n",
    "for fixture in all_events:\n",
    "    fixture_id = fixture['fixture_id']\n",
    "    for event in fixture['events']:\n",
    "        # Criar uma nova linha com o fixture_id\n",
    "        row = {'fixture_id': fixture_id}\n",
    "        \n",
    "        # Processar cada campo do evento\n",
    "        for key, value in event.items():\n",
    "            # Desestruturar dicionários aninhados (time, team, player, assist)\n",
    "            if isinstance(value, dict):\n",
    "                for sub_key, sub_value in value.items():\n",
    "                    row[f\"{key}_{sub_key}\"] = sub_value\n",
    "            else:\n",
    "                row[key] = value\n",
    "        \n",
    "        rows.append(row)\n",
    "\n",
    "# Criar o DataFrame\n",
    "df = pd.DataFrame(rows)\n",
    "\n",
    "# Definir uma ordem lógica para as colunas\n",
    "column_order = [\n",
    "    'fixture_id',\n",
    "    'time_elapsed',\n",
    "    'time_extra',\n",
    "    'team_id',\n",
    "    'team_name',\n",
    "    'team_logo',\n",
    "    'player_id',\n",
    "    'player_name',\n",
    "    'assist_id',\n",
    "    'assist_name',\n",
    "    'type',\n",
    "    'detail',\n",
    "    'comments'\n",
    "]\n",
    "\n",
    "# Reordenar as colunas\n",
    "df = df[column_order]\n",
    "df_events = df\n",
    "\n",
    "#Salvando csv\n",
    "df.to_csv(f'Data/{liga}_{season}_events_stats.csv', index=False)"
   ]
  },
  {
   "cell_type": "markdown",
   "metadata": {},
   "source": [
    "# Escalações dos times"
   ]
  },
  {
   "cell_type": "markdown",
   "metadata": {},
   "source": [
    "# Request"
   ]
  },
  {
   "cell_type": "code",
   "execution_count": 25,
   "metadata": {},
   "outputs": [],
   "source": [
    "url_lineups = \"https://v3.football.api-sports.io/fixtures/lineups\"\n",
    "\n",
    "all_lineups = []\n",
    "\n",
    "for fixture_id in fixture_ids:\n",
    "    # Parâmetros da requisição\n",
    "    params = {\"fixture\": fixture_id}\n",
    "    \n",
    "    # Requisição GET\n",
    "    response = requests.get(url_lineups, headers=headers, params=params)\n",
    "    \n",
    "    if response.status_code == 200:\n",
    "        lineup_data = response.json().get(\"response\", [])\n",
    "        all_lineups.append({\n",
    "            \"fixture_id\": fixture_id,\n",
    "            \"lineups\": lineup_data\n",
    "        })\n",
    "    else:\n",
    "        print(f\"Erro ao buscar lineups para fixture_id {fixture_id}: {response.status_code}\")"
   ]
  },
  {
   "cell_type": "markdown",
   "metadata": {},
   "source": [
    "- Processando e salvando csv"
   ]
  },
  {
   "cell_type": "code",
   "execution_count": 26,
   "metadata": {},
   "outputs": [],
   "source": [
    "data = []\n",
    "\n",
    "# Iterar sobre cada evento\n",
    "for event in all_lineups:\n",
    "    fixture_id = event['fixture_id']\n",
    "    \n",
    "    # Iterar sobre cada time no evento\n",
    "    for lineup in event['lineups']:\n",
    "        team_name = lineup['team']['name']\n",
    "        formation = lineup['formation']\n",
    "        coach = lineup['coach']['name']\n",
    "        \n",
    "        # Adicionar os titulares\n",
    "        for player in lineup['startXI']:\n",
    "            data.append({\n",
    "                'fixture_id': fixture_id,\n",
    "                'team': team_name,\n",
    "                'formation': formation,\n",
    "                'coach': coach,\n",
    "                'player_id': player['player']['id'],\n",
    "                'player_name': player['player']['name'],\n",
    "                'number': player['player']['number'],\n",
    "                'position': player['player']['pos'],\n",
    "                'grid': player['player']['grid'],\n",
    "                'status': 'starter'\n",
    "            })\n",
    "        \n",
    "        # Adicionar os substitutos\n",
    "        for player in lineup['substitutes']:\n",
    "            data.append({\n",
    "                'fixture_id': fixture_id,\n",
    "                'team': team_name,\n",
    "                'formation': formation,\n",
    "                'coach': coach,\n",
    "                'player_id': player['player']['id'],\n",
    "                'player_name': player['player']['name'],\n",
    "                'number': player['player']['number'],\n",
    "                'position': player['player']['pos'],\n",
    "                'grid': player['player']['grid'],\n",
    "                'status': 'substitute'\n",
    "            })\n",
    "df_lines = pd.DataFrame(data)\n",
    "\n",
    "# Salvando csv\n",
    "\n",
    "df_lines.to_csv(f'Data/{liga}_{season}_escalacao.csv', index=False)"
   ]
  },
  {
   "cell_type": "markdown",
   "metadata": {},
   "source": [
    "# Estatísticas dos players durante os jogos"
   ]
  },
  {
   "cell_type": "markdown",
   "metadata": {},
   "source": [
    "# Request"
   ]
  },
  {
   "cell_type": "code",
   "execution_count": 27,
   "metadata": {},
   "outputs": [],
   "source": [
    "#Estatisticas dos players \n",
    "\n",
    "url_players_stats = \"https://v3.football.api-sports.io/fixtures/players\"\n",
    "\n",
    "\n",
    "# Lista para armazenar as estatísticas dos jogadores\n",
    "all_players_stats = []\n",
    "\n",
    "# Loop para buscar as estatísticas de cada partida\n",
    "for fixture_id in fixture_ids:\n",
    "    # Parâmetros da requisição\n",
    "    params = {\"fixture\": fixture_id}\n",
    "    \n",
    "    # Requisição GET\n",
    "    response = requests.get(url_players_stats, headers=headers, params=params)\n",
    "    \n",
    "    if response.status_code == 200:\n",
    "        players_data = response.json().get(\"response\", [])\n",
    "        for team_stats in players_data:\n",
    "            team = team_stats.get(\"team\", {})\n",
    "            players = team_stats.get(\"players\", [])\n",
    "            for player in players:\n",
    "                all_players_stats.append({\n",
    "                    \"fixture_id\": fixture_id,\n",
    "                    \"team_id\": team.get(\"id\"),\n",
    "                    \"team_name\": team.get(\"name\"),\n",
    "                    \"player_id\": player.get(\"player\", {}).get(\"id\"),\n",
    "                    \"player_name\": player.get(\"player\", {}).get(\"name\"),\n",
    "                    \"player_statistics\": player.get(\"statistics\", [])\n",
    "                })\n",
    "    else:\n",
    "        print(f\"Erro ao buscar estatísticas de jogadores para fixture_id {fixture_id}: {response.status_code}\")"
   ]
  },
  {
   "cell_type": "markdown",
   "metadata": {},
   "source": [
    "- Processando e salvando csv"
   ]
  },
  {
   "cell_type": "code",
   "execution_count": 28,
   "metadata": {},
   "outputs": [],
   "source": [
    "# Lista para armazenar os dados\n",
    "data = []\n",
    "\n",
    "# Iterar sobre cada jogador\n",
    "for player in all_players_stats:\n",
    "    fixture_id = player['fixture_id']\n",
    "    team_id = player['team_id']\n",
    "    team_name = player['team_name']\n",
    "    player_id = player['player_id']\n",
    "    player_name = player['player_name']\n",
    "    \n",
    "    # Extrair as estatísticas do jogador\n",
    "    stats = player['player_statistics'][0]  # Acessa o primeiro (e único) item da lista de estatísticas\n",
    "    \n",
    "    # Adicionar os dados ao DataFrame\n",
    "    data.append({\n",
    "        'fixture_id': fixture_id,\n",
    "        'team_id': team_id,\n",
    "        'team_name': team_name,\n",
    "        'player_id': player_id,\n",
    "        'player_name': player_name,\n",
    "        'minutes': stats['games']['minutes'],\n",
    "        'number': stats['games']['number'],\n",
    "        'position': stats['games']['position'],\n",
    "        'rating': stats['games']['rating'],\n",
    "        'captain': stats['games']['captain'],\n",
    "        'substitute': stats['games']['substitute'],\n",
    "        'offsides': stats['offsides'],\n",
    "        'shots_total': stats['shots']['total'],\n",
    "        'shots_on': stats['shots']['on'],\n",
    "        'goals_total': stats['goals']['total'],\n",
    "        'goals_conceded': stats['goals']['conceded'],\n",
    "        'assists': stats['goals']['assists'],\n",
    "        'saves': stats['goals']['saves'],\n",
    "        'passes_total': stats['passes']['total'],\n",
    "        'passes_key': stats['passes']['key'],\n",
    "        'passes_accuracy': stats['passes']['accuracy'],\n",
    "        'tackles_total': stats['tackles']['total'],\n",
    "        'tackles_blocks': stats['tackles']['blocks'],\n",
    "        'tackles_interceptions': stats['tackles']['interceptions'],\n",
    "        'duels_total': stats['duels']['total'],\n",
    "        'duels_won': stats['duels']['won'],\n",
    "        'dribbles_attempts': stats['dribbles']['attempts'],\n",
    "        'dribbles_success': stats['dribbles']['success'],\n",
    "        'dribbles_past': stats['dribbles']['past'],\n",
    "        'fouls_drawn': stats['fouls']['drawn'],\n",
    "        'fouls_committed': stats['fouls']['committed'],\n",
    "        'cards_yellow': stats['cards']['yellow'],\n",
    "        'cards_red': stats['cards']['red'],\n",
    "        'penalty_won': stats['penalty']['won'],\n",
    "        'penalty_committed': stats['penalty']['commited'],\n",
    "        'penalty_scored': stats['penalty']['scored'],\n",
    "        'penalty_missed': stats['penalty']['missed'],\n",
    "        'penalty_saved': stats['penalty']['saved']\n",
    "    })\n",
    "\n",
    "    #Pandas\n",
    "\n",
    "    df_players_stats = pd.DataFrame(data)\n",
    "\n",
    "# Salvando csv\n",
    "\n",
    "df_players_stats.to_csv(f'Data/{liga}_{season}_players_stats.csv', index=False)"
   ]
  }
 ],
 "metadata": {
  "kernelspec": {
   "display_name": ".venv",
   "language": "python",
   "name": "python3"
  },
  "language_info": {
   "codemirror_mode": {
    "name": "ipython",
    "version": 3
   },
   "file_extension": ".py",
   "mimetype": "text/x-python",
   "name": "python",
   "nbconvert_exporter": "python",
   "pygments_lexer": "ipython3",
   "version": "3.9.13"
  }
 },
 "nbformat": 4,
 "nbformat_minor": 2
}
