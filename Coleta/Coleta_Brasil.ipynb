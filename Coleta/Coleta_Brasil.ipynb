{
 "cells": [
  {
   "cell_type": "code",
   "execution_count": 16,
   "metadata": {},
   "outputs": [],
   "source": [
    "import requests\n",
    "import pandas as pd\n",
    "from dotenv import load_dotenv\n",
    "import os\n",
    "\n",
    "load_dotenv()\n",
    "key = os.getenv(\"API_KEY_FOOTBALL\")\n",
    "pd.set_option('display.max_columns', None)"
   ]
  },
  {
   "cell_type": "markdown",
   "metadata": {},
   "source": [
    "# Configuração de cabeçalho, chave e host\n"
   ]
  },
  {
   "cell_type": "code",
   "execution_count": 17,
   "metadata": {},
   "outputs": [],
   "source": [
    "headers = {\n",
    "    \"x-rapidapi-host\": \"v3.football.api-sports.io\",\n",
    "    \"x-rapidapi-key\": key  # Substitua pela sua chave de API\n",
    "}"
   ]
  },
  {
   "cell_type": "code",
   "execution_count": 3,
   "metadata": {},
   "outputs": [],
   "source": [
    "liga = 'Camp_Brasileiro'\n",
    "season = '2012'"
   ]
  },
  {
   "cell_type": "code",
   "execution_count": 4,
   "metadata": {},
   "outputs": [],
   "source": [
    "params = {\n",
    "    \"league\": 71,  # ID da liga que analisaremos (71 = Campeonato Brasileiro) (140 - La liga) (39 PremierLeague)\n",
    "    \"season\": 2012  # Temporada\n",
    "}"
   ]
  },
  {
   "cell_type": "markdown",
   "metadata": {},
   "source": [
    "# Resultado de todos os jogos"
   ]
  },
  {
   "cell_type": "code",
   "execution_count": 18,
   "metadata": {},
   "outputs": [
    {
     "ename": "KeyError",
     "evalue": "'fixture'",
     "output_type": "error",
     "traceback": [
      "\u001b[1;31m---------------------------------------------------------------------------\u001b[0m",
      "\u001b[1;31mKeyError\u001b[0m                                  Traceback (most recent call last)",
      "Cell \u001b[1;32mIn[18], line 14\u001b[0m\n\u001b[0;32m      9\u001b[0m df \u001b[38;5;241m=\u001b[39m pd\u001b[38;5;241m.\u001b[39mDataFrame(dados[\u001b[38;5;124m'\u001b[39m\u001b[38;5;124mresponse\u001b[39m\u001b[38;5;124m'\u001b[39m])\n\u001b[0;32m     11\u001b[0m \u001b[38;5;66;03m#Deixando em um formato legivel\u001b[39;00m\n\u001b[0;32m     13\u001b[0m df_expanded \u001b[38;5;241m=\u001b[39m pd\u001b[38;5;241m.\u001b[39mconcat([\n\u001b[1;32m---> 14\u001b[0m     pd\u001b[38;5;241m.\u001b[39mjson_normalize(\u001b[43mdf\u001b[49m\u001b[43m[\u001b[49m\u001b[38;5;124;43m'\u001b[39;49m\u001b[38;5;124;43mfixture\u001b[39;49m\u001b[38;5;124;43m'\u001b[39;49m\u001b[43m]\u001b[49m),  \u001b[38;5;66;03m# Expandir informações de 'fixture'\u001b[39;00m\n\u001b[0;32m     15\u001b[0m     pd\u001b[38;5;241m.\u001b[39mjson_normalize(df[\u001b[38;5;124m'\u001b[39m\u001b[38;5;124mleague\u001b[39m\u001b[38;5;124m'\u001b[39m]),  \u001b[38;5;66;03m# Expandir informações de 'league'\u001b[39;00m\n\u001b[0;32m     16\u001b[0m     pd\u001b[38;5;241m.\u001b[39mjson_normalize(df[\u001b[38;5;124m'\u001b[39m\u001b[38;5;124mteams\u001b[39m\u001b[38;5;124m'\u001b[39m]),   \u001b[38;5;66;03m# Expandir informações de 'teams'\u001b[39;00m\n\u001b[0;32m     17\u001b[0m     pd\u001b[38;5;241m.\u001b[39mjson_normalize(df[\u001b[38;5;124m'\u001b[39m\u001b[38;5;124mgoals\u001b[39m\u001b[38;5;124m'\u001b[39m]),   \u001b[38;5;66;03m# Expandir informações de 'goals'\u001b[39;00m\n\u001b[0;32m     18\u001b[0m     pd\u001b[38;5;241m.\u001b[39mjson_normalize(df[\u001b[38;5;124m'\u001b[39m\u001b[38;5;124mscore\u001b[39m\u001b[38;5;124m'\u001b[39m])    \u001b[38;5;66;03m# Expandir informações de 'score'\u001b[39;00m\n\u001b[0;32m     19\u001b[0m ], axis\u001b[38;5;241m=\u001b[39m\u001b[38;5;241m1\u001b[39m)\n\u001b[0;32m     21\u001b[0m \u001b[38;5;66;03m#Formatando o nome das colunas\u001b[39;00m\n\u001b[0;32m     23\u001b[0m df_expanded \u001b[38;5;241m=\u001b[39m df_expanded[[\u001b[38;5;124m'\u001b[39m\u001b[38;5;124mid\u001b[39m\u001b[38;5;124m'\u001b[39m,\u001b[38;5;124m'\u001b[39m\u001b[38;5;124mreferee\u001b[39m\u001b[38;5;124m'\u001b[39m,\u001b[38;5;124m'\u001b[39m\u001b[38;5;124mdate\u001b[39m\u001b[38;5;124m'\u001b[39m,\u001b[38;5;124m'\u001b[39m\u001b[38;5;124mvenue.name\u001b[39m\u001b[38;5;124m'\u001b[39m,\u001b[38;5;124m'\u001b[39m\u001b[38;5;124mhome.name\u001b[39m\u001b[38;5;124m'\u001b[39m,\u001b[38;5;124m'\u001b[39m\u001b[38;5;124mhome.id\u001b[39m\u001b[38;5;124m'\u001b[39m,\u001b[38;5;124m'\u001b[39m\u001b[38;5;124maway.name\u001b[39m\u001b[38;5;124m'\u001b[39m,\u001b[38;5;124m'\u001b[39m\u001b[38;5;124maway.id\u001b[39m\u001b[38;5;124m'\u001b[39m,\u001b[38;5;124m'\u001b[39m\u001b[38;5;124mhome.winner\u001b[39m\u001b[38;5;124m'\u001b[39m,\u001b[38;5;124m'\u001b[39m\u001b[38;5;124mhome\u001b[39m\u001b[38;5;124m'\u001b[39m,\u001b[38;5;124m'\u001b[39m\u001b[38;5;124maway\u001b[39m\u001b[38;5;124m'\u001b[39m,\u001b[38;5;124m'\u001b[39m\u001b[38;5;124mhalftime.home\u001b[39m\u001b[38;5;124m'\u001b[39m,\u001b[38;5;124m'\u001b[39m\u001b[38;5;124mhalftime.away\u001b[39m\u001b[38;5;124m'\u001b[39m]]\n",
      "File \u001b[1;32mc:\\Users\\paulo\\OneDrive\\Área de Trabalho\\projetos\\Footballab\\.venv\\lib\\site-packages\\pandas\\core\\frame.py:4102\u001b[0m, in \u001b[0;36mDataFrame.__getitem__\u001b[1;34m(self, key)\u001b[0m\n\u001b[0;32m   4100\u001b[0m \u001b[38;5;28;01mif\u001b[39;00m \u001b[38;5;28mself\u001b[39m\u001b[38;5;241m.\u001b[39mcolumns\u001b[38;5;241m.\u001b[39mnlevels \u001b[38;5;241m>\u001b[39m \u001b[38;5;241m1\u001b[39m:\n\u001b[0;32m   4101\u001b[0m     \u001b[38;5;28;01mreturn\u001b[39;00m \u001b[38;5;28mself\u001b[39m\u001b[38;5;241m.\u001b[39m_getitem_multilevel(key)\n\u001b[1;32m-> 4102\u001b[0m indexer \u001b[38;5;241m=\u001b[39m \u001b[38;5;28;43mself\u001b[39;49m\u001b[38;5;241;43m.\u001b[39;49m\u001b[43mcolumns\u001b[49m\u001b[38;5;241;43m.\u001b[39;49m\u001b[43mget_loc\u001b[49m\u001b[43m(\u001b[49m\u001b[43mkey\u001b[49m\u001b[43m)\u001b[49m\n\u001b[0;32m   4103\u001b[0m \u001b[38;5;28;01mif\u001b[39;00m is_integer(indexer):\n\u001b[0;32m   4104\u001b[0m     indexer \u001b[38;5;241m=\u001b[39m [indexer]\n",
      "File \u001b[1;32mc:\\Users\\paulo\\OneDrive\\Área de Trabalho\\projetos\\Footballab\\.venv\\lib\\site-packages\\pandas\\core\\indexes\\range.py:417\u001b[0m, in \u001b[0;36mRangeIndex.get_loc\u001b[1;34m(self, key)\u001b[0m\n\u001b[0;32m    415\u001b[0m         \u001b[38;5;28;01mraise\u001b[39;00m \u001b[38;5;167;01mKeyError\u001b[39;00m(key) \u001b[38;5;28;01mfrom\u001b[39;00m\u001b[38;5;250m \u001b[39m\u001b[38;5;21;01merr\u001b[39;00m\n\u001b[0;32m    416\u001b[0m \u001b[38;5;28;01mif\u001b[39;00m \u001b[38;5;28misinstance\u001b[39m(key, Hashable):\n\u001b[1;32m--> 417\u001b[0m     \u001b[38;5;28;01mraise\u001b[39;00m \u001b[38;5;167;01mKeyError\u001b[39;00m(key)\n\u001b[0;32m    418\u001b[0m \u001b[38;5;28mself\u001b[39m\u001b[38;5;241m.\u001b[39m_check_indexing_error(key)\n\u001b[0;32m    419\u001b[0m \u001b[38;5;28;01mraise\u001b[39;00m \u001b[38;5;167;01mKeyError\u001b[39;00m(key)\n",
      "\u001b[1;31mKeyError\u001b[0m: 'fixture'"
     ]
    }
   ],
   "source": [
    "url_jogos = \"https://v3.football.api-sports.io/fixtures/\"\n",
    "\n",
    "# Requisição GET\n",
    "response = requests.get(url_jogos, headers=headers, params=params)\n",
    "\n",
    "#Salvando os dados json\n",
    "dados = response.json()\n",
    "\n",
    "df = pd.DataFrame(dados['response'])\n",
    "\n",
    "#Deixando em um formato legivel\n",
    "\n",
    "df_expanded = pd.concat([\n",
    "    pd.json_normalize(df['fixture']),  # Expandir informações de 'fixture'\n",
    "    pd.json_normalize(df['league']),  # Expandir informações de 'league'\n",
    "    pd.json_normalize(df['teams']),   # Expandir informações de 'teams'\n",
    "    pd.json_normalize(df['goals']),   # Expandir informações de 'goals'\n",
    "    pd.json_normalize(df['score'])    # Expandir informações de 'score'\n",
    "], axis=1)\n",
    "\n",
    "#Formatando o nome das colunas\n",
    "\n",
    "df_expanded = df_expanded[['id','referee','date','venue.name','home.name','home.id','away.name','away.id','home.winner','home','away','halftime.home','halftime.away']]\n",
    "df_games = df_expanded\n",
    "df_games.columns = ['fixture_id', 'id_league','referee', 'date', 'venue.name', 'home.name', 'home.id', 'away.name',\n",
    "       'away.id', 'home.winner', 'home', 'away', 'halftime.home',\n",
    "       'halftime.away']\n",
    "\n",
    "#Salvando csv\n",
    "df_games.to_csv(f'../Data/{liga}_{season}_Games.csv', index=False)"
   ]
  },
  {
   "cell_type": "markdown",
   "metadata": {},
   "source": [
    "- Vou Precisar de todos os id_partida para localizar outros dados"
   ]
  },
  {
   "cell_type": "code",
   "execution_count": 6,
   "metadata": {},
   "outputs": [],
   "source": [
    "fixture_ids = df_games['fixture_id'].tolist()"
   ]
  },
  {
   "cell_type": "markdown",
   "metadata": {},
   "source": [
    "# Request de todos os dados dos TIMES durante uma id_partida\n",
    "\n",
    "- Coletando os dados"
   ]
  },
  {
   "cell_type": "code",
   "execution_count": 7,
   "metadata": {},
   "outputs": [],
   "source": [
    "#Request dos dados das partidas\n",
    "\n",
    "# Criando uma lista vazia para armazenar as estatísticas\n",
    "all_stats = []\n",
    "\n",
    "#De onde vou puxar as estatisticas da partida\n",
    "url_stats = \"https://v3.football.api-sports.io/fixtures/statistics\"\n",
    "\n",
    "#Varrendo os id_partidas\n",
    "for fixture_id in fixture_ids:\n",
    "    # Parâmetros da requisição\n",
    "    params = {\"fixture\": fixture_id}\n",
    "    \n",
    "    # Requisição GET\n",
    "    response = requests.get(url_stats, headers=headers, params=params)\n",
    "    stats_data = response.json().get(\"response\", [])\n",
    "    all_stats.append({\n",
    "    \"fixture_id\": fixture_id,\n",
    "    \"stats\": stats_data\n",
    "        })"
   ]
  },
  {
   "cell_type": "markdown",
   "metadata": {},
   "source": [
    "- Processando os dados e salvando csv"
   ]
  },
  {
   "cell_type": "code",
   "execution_count": 8,
   "metadata": {},
   "outputs": [],
   "source": [
    "# Lista para armazenar os dados processados\n",
    "processed_data = []\n",
    "\n",
    "# Iterar sobre cada partida em all_stats\n",
    "for match in all_stats:\n",
    "    fixture_id = match['fixture_id']\n",
    "    \n",
    "    # Iterar sobre as estatísticas de cada time\n",
    "    for team_stats in match['stats']:\n",
    "        team_id = team_stats['team']['id']\n",
    "        team_name = team_stats['team']['name']\n",
    "        \n",
    "        # Criar um dicionário para armazenar os dados do time\n",
    "        team_data = {\n",
    "            'fixture_id': fixture_id,\n",
    "            'team_id': team_id,\n",
    "            'team_name': team_name\n",
    "        }\n",
    "        \n",
    "        # Adicionar as estatísticas ao dicionário\n",
    "        for stat in team_stats['statistics']:\n",
    "            stat_type = stat['type'].lower().replace(' ', '_')  # Padroniza o nome da coluna\n",
    "            stat_value = stat['value']\n",
    "            team_data[stat_type] = stat_value\n",
    "        \n",
    "        # Adicionar o dicionário à lista processada\n",
    "        processed_data.append(team_data)\n",
    "\n",
    "# Criar o DataFrame\n",
    "df_statistics_games = pd.DataFrame(processed_data)\n",
    "\n",
    "#Salvando csv\n",
    "df_statistics_games.to_csv(f'../Data/{liga}_{season}_team_stats.csv', index=False)"
   ]
  },
  {
   "cell_type": "markdown",
   "metadata": {},
   "source": [
    "# Eventos que acontecem durante o jogo:\n",
    "\n",
    "- Gols    \n",
    "- Assistências\n",
    "- Cartões\n",
    "- Acréscimo\n",
    "- Substituições"
   ]
  },
  {
   "cell_type": "markdown",
   "metadata": {},
   "source": [
    "# Request"
   ]
  },
  {
   "cell_type": "code",
   "execution_count": 9,
   "metadata": {},
   "outputs": [],
   "source": [
    "#Eventos que ocorreram durante o jogo \n",
    "url_events = \"https://v3.football.api-sports.io/fixtures/events\"\n",
    "\n",
    "# Criar uma lista para armazenar os eventos\n",
    "all_events = []\n",
    "\n",
    "# Loop para buscar eventos de cada partida\n",
    "for fixture_id in fixture_ids:\n",
    "    # Parâmetros da requisição\n",
    "    params = {\"fixture\": fixture_id}\n",
    "    \n",
    "    # Requisição GET\n",
    "    response = requests.get(url_events, headers=headers, params=params)\n",
    "    \n",
    "    if response.status_code == 200:\n",
    "        events_data = response.json().get(\"response\", [])\n",
    "        \n",
    "        # Adicionar os eventos ao array\n",
    "        all_events.append({\n",
    "            \"fixture_id\": fixture_id,\n",
    "            \"events\": events_data\n",
    "        })\n",
    "    else:\n",
    "        print(f\"Erro ao buscar eventos para fixture_id {fixture_id}: {response.status_code}\")"
   ]
  },
  {
   "cell_type": "markdown",
   "metadata": {},
   "source": [
    "- Processando e salvando csv"
   ]
  },
  {
   "cell_type": "code",
   "execution_count": 10,
   "metadata": {},
   "outputs": [],
   "source": [
    "# Lista para armazenar os eventos processados\n",
    "rows = []\n",
    "\n",
    "# Iterar sobre cada fixture e seus eventos\n",
    "for fixture in all_events:\n",
    "    fixture_id = fixture['fixture_id']\n",
    "    for event in fixture['events']:\n",
    "        # Criar uma nova linha com o fixture_id\n",
    "        row = {'fixture_id': fixture_id}\n",
    "        \n",
    "        # Processar cada campo do evento\n",
    "        for key, value in event.items():\n",
    "            # Desestruturar dicionários aninhados (time, team, player, assist)\n",
    "            if isinstance(value, dict):\n",
    "                for sub_key, sub_value in value.items():\n",
    "                    row[f\"{key}_{sub_key}\"] = sub_value\n",
    "            else:\n",
    "                row[key] = value\n",
    "        \n",
    "        rows.append(row)\n",
    "\n",
    "# Criar o DataFrame\n",
    "df = pd.DataFrame(rows)\n",
    "\n",
    "# Definir uma ordem lógica para as colunas\n",
    "column_order = [\n",
    "    'fixture_id',\n",
    "    'time_elapsed',\n",
    "    'time_extra',\n",
    "    'team_id',\n",
    "    'team_name',\n",
    "    'team_logo',\n",
    "    'player_id',\n",
    "    'player_name',\n",
    "    'assist_id',\n",
    "    'assist_name',\n",
    "    'type',\n",
    "    'detail',\n",
    "    'comments'\n",
    "]\n",
    "\n",
    "# Reordenar as colunas\n",
    "df = df[column_order]\n",
    "df_events = df\n",
    "\n",
    "#Salvando csv\n",
    "df.to_csv(f'../Data/{liga}_{season}_events_stats.csv', index=False)"
   ]
  },
  {
   "cell_type": "markdown",
   "metadata": {},
   "source": [
    "# Escalações dos times"
   ]
  },
  {
   "cell_type": "markdown",
   "metadata": {},
   "source": [
    "# Request"
   ]
  },
  {
   "cell_type": "code",
   "execution_count": 11,
   "metadata": {},
   "outputs": [],
   "source": [
    "url_lineups = \"https://v3.football.api-sports.io/fixtures/lineups\"\n",
    "\n",
    "all_lineups = []\n",
    "\n",
    "for fixture_id in fixture_ids:\n",
    "    # Parâmetros da requisição\n",
    "    params = {\"fixture\": fixture_id}\n",
    "    \n",
    "    # Requisição GET\n",
    "    response = requests.get(url_lineups, headers=headers, params=params)\n",
    "    \n",
    "    if response.status_code == 200:\n",
    "        lineup_data = response.json().get(\"response\", [])\n",
    "        all_lineups.append({\n",
    "            \"fixture_id\": fixture_id,\n",
    "            \"lineups\": lineup_data\n",
    "        })\n",
    "    else:\n",
    "        print(f\"Erro ao buscar lineups para fixture_id {fixture_id}: {response.status_code}\")"
   ]
  },
  {
   "cell_type": "markdown",
   "metadata": {},
   "source": [
    "- Processando e salvando csv"
   ]
  },
  {
   "cell_type": "code",
   "execution_count": 12,
   "metadata": {},
   "outputs": [],
   "source": [
    "data = []\n",
    "\n",
    "# Iterar sobre cada evento\n",
    "for event in all_lineups:\n",
    "    fixture_id = event['fixture_id']\n",
    "    \n",
    "    # Iterar sobre cada time no evento\n",
    "    for lineup in event['lineups']:\n",
    "        team_name = lineup['team']['name']\n",
    "        formation = lineup['formation']\n",
    "        coach = lineup['coach']['name']\n",
    "        \n",
    "        # Adicionar os titulares\n",
    "        for player in lineup['startXI']:\n",
    "            data.append({\n",
    "                'fixture_id': fixture_id,\n",
    "                'team': team_name,\n",
    "                'formation': formation,\n",
    "                'coach': coach,\n",
    "                'player_id': player['player']['id'],\n",
    "                'player_name': player['player']['name'],\n",
    "                'number': player['player']['number'],\n",
    "                'position': player['player']['pos'],\n",
    "                'grid': player['player']['grid'],\n",
    "                'status': 'starter'\n",
    "            })\n",
    "        \n",
    "        # Adicionar os substitutos\n",
    "        for player in lineup['substitutes']:\n",
    "            data.append({\n",
    "                'fixture_id': fixture_id,\n",
    "                'team': team_name,\n",
    "                'formation': formation,\n",
    "                'coach': coach,\n",
    "                'player_id': player['player']['id'],\n",
    "                'player_name': player['player']['name'],\n",
    "                'number': player['player']['number'],\n",
    "                'position': player['player']['pos'],\n",
    "                'grid': player['player']['grid'],\n",
    "                'status': 'substitute'\n",
    "            })\n",
    "df_lines = pd.DataFrame(data)\n",
    "\n",
    "# Salvando csv\n",
    "\n",
    "df_lines.to_csv(f'../Data/{liga}_{season}_escalacao.csv', index=False)"
   ]
  },
  {
   "cell_type": "markdown",
   "metadata": {},
   "source": [
    "# Estatísticas dos players durante os jogos"
   ]
  },
  {
   "cell_type": "markdown",
   "metadata": {},
   "source": [
    "# Request"
   ]
  },
  {
   "cell_type": "code",
   "execution_count": 13,
   "metadata": {},
   "outputs": [],
   "source": [
    "#Estatisticas dos players \n",
    "\n",
    "url_players_stats = \"https://v3.football.api-sports.io/fixtures/players\"\n",
    "\n",
    "\n",
    "# Lista para armazenar as estatísticas dos jogadores\n",
    "all_players_stats = []\n",
    "\n",
    "# Loop para buscar as estatísticas de cada partida\n",
    "for fixture_id in fixture_ids:\n",
    "    # Parâmetros da requisição\n",
    "    params = {\"fixture\": fixture_id}\n",
    "    \n",
    "    # Requisição GET\n",
    "    response = requests.get(url_players_stats, headers=headers, params=params)\n",
    "    \n",
    "    if response.status_code == 200:\n",
    "        players_data = response.json().get(\"response\", [])\n",
    "        for team_stats in players_data:\n",
    "            team = team_stats.get(\"team\", {})\n",
    "            players = team_stats.get(\"players\", [])\n",
    "            for player in players:\n",
    "                all_players_stats.append({\n",
    "                    \"fixture_id\": fixture_id,\n",
    "                    \"team_id\": team.get(\"id\"),\n",
    "                    \"team_name\": team.get(\"name\"),\n",
    "                    \"player_id\": player.get(\"player\", {}).get(\"id\"),\n",
    "                    \"player_name\": player.get(\"player\", {}).get(\"name\"),\n",
    "                    \"player_statistics\": player.get(\"statistics\", [])\n",
    "                })\n",
    "    else:\n",
    "        print(f\"Erro ao buscar estatísticas de jogadores para fixture_id {fixture_id}: {response.status_code}\")"
   ]
  },
  {
   "cell_type": "markdown",
   "metadata": {},
   "source": [
    "- Processando e salvando csv"
   ]
  },
  {
   "cell_type": "code",
   "execution_count": 15,
   "metadata": {},
   "outputs": [
    {
     "ename": "NameError",
     "evalue": "name 'df_players_stats' is not defined",
     "output_type": "error",
     "traceback": [
      "\u001b[1;31m---------------------------------------------------------------------------\u001b[0m",
      "\u001b[1;31mNameError\u001b[0m                                 Traceback (most recent call last)",
      "Cell \u001b[1;32mIn[15], line 63\u001b[0m\n\u001b[0;32m     59\u001b[0m     df_players_stats \u001b[38;5;241m=\u001b[39m pd\u001b[38;5;241m.\u001b[39mDataFrame(data)\n\u001b[0;32m     61\u001b[0m \u001b[38;5;66;03m# Salvando csv\u001b[39;00m\n\u001b[1;32m---> 63\u001b[0m \u001b[43mdf_players_stats\u001b[49m\u001b[38;5;241m.\u001b[39mto_csv(\u001b[38;5;124mf\u001b[39m\u001b[38;5;124m'\u001b[39m\u001b[38;5;124m../Data/\u001b[39m\u001b[38;5;132;01m{\u001b[39;00mliga\u001b[38;5;132;01m}\u001b[39;00m\u001b[38;5;124m_\u001b[39m\u001b[38;5;132;01m{\u001b[39;00mseason\u001b[38;5;132;01m}\u001b[39;00m\u001b[38;5;124m_players_stats.csv\u001b[39m\u001b[38;5;124m'\u001b[39m, index\u001b[38;5;241m=\u001b[39m\u001b[38;5;28;01mFalse\u001b[39;00m)\n",
      "\u001b[1;31mNameError\u001b[0m: name 'df_players_stats' is not defined"
     ]
    }
   ],
   "source": [
    "# Lista para armazenar os dados\n",
    "data = []\n",
    "\n",
    "# Iterar sobre cada jogador\n",
    "for player in all_players_stats:\n",
    "    fixture_id = player['fixture_id']\n",
    "    team_id = player['team_id']\n",
    "    team_name = player['team_name']\n",
    "    player_id = player['player_id']\n",
    "    player_name = player['player_name']\n",
    "    \n",
    "    # Extrair as estatísticas do jogador\n",
    "    stats = player['player_statistics'][0]  # Acessa o primeiro (e único) item da lista de estatísticas\n",
    "    \n",
    "    # Adicionar os dados ao DataFrame\n",
    "    data.append({\n",
    "        'fixture_id': fixture_id,\n",
    "        'team_id': team_id,\n",
    "        'team_name': team_name,\n",
    "        'player_id': player_id,\n",
    "        'player_name': player_name,\n",
    "        'minutes': stats['games']['minutes'],\n",
    "        'number': stats['games']['number'],\n",
    "        'position': stats['games']['position'],\n",
    "        'rating': stats['games']['rating'],\n",
    "        'captain': stats['games']['captain'],\n",
    "        'substitute': stats['games']['substitute'],\n",
    "        'offsides': stats['offsides'],\n",
    "        'shots_total': stats['shots']['total'],\n",
    "        'shots_on': stats['shots']['on'],\n",
    "        'goals_total': stats['goals']['total'],\n",
    "        'goals_conceded': stats['goals']['conceded'],\n",
    "        'assists': stats['goals']['assists'],\n",
    "        'saves': stats['goals']['saves'],\n",
    "        'passes_total': stats['passes']['total'],\n",
    "        'passes_key': stats['passes']['key'],\n",
    "        'passes_accuracy': stats['passes']['accuracy'],\n",
    "        'tackles_total': stats['tackles']['total'],\n",
    "        'tackles_blocks': stats['tackles']['blocks'],\n",
    "        'tackles_interceptions': stats['tackles']['interceptions'],\n",
    "        'duels_total': stats['duels']['total'],\n",
    "        'duels_won': stats['duels']['won'],\n",
    "        'dribbles_attempts': stats['dribbles']['attempts'],\n",
    "        'dribbles_success': stats['dribbles']['success'],\n",
    "        'dribbles_past': stats['dribbles']['past'],\n",
    "        'fouls_drawn': stats['fouls']['drawn'],\n",
    "        'fouls_committed': stats['fouls']['committed'],\n",
    "        'cards_yellow': stats['cards']['yellow'],\n",
    "        'cards_red': stats['cards']['red'],\n",
    "        'penalty_won': stats['penalty']['won'],\n",
    "        'penalty_committed': stats['penalty']['commited'],\n",
    "        'penalty_scored': stats['penalty']['scored'],\n",
    "        'penalty_missed': stats['penalty']['missed'],\n",
    "        'penalty_saved': stats['penalty']['saved']\n",
    "    })\n",
    "\n",
    "    #Pandas\n",
    "\n",
    "    df_players_stats = pd.DataFrame(data)\n",
    "\n",
    "# Salvando csv\n",
    "\n",
    "df_players_stats.to_csv(f'../Data/{liga}_{season}_players_stats.csv', index=False)"
   ]
  }
 ],
 "metadata": {
  "kernelspec": {
   "display_name": ".venv",
   "language": "python",
   "name": "python3"
  },
  "language_info": {
   "codemirror_mode": {
    "name": "ipython",
    "version": 3
   },
   "file_extension": ".py",
   "mimetype": "text/x-python",
   "name": "python",
   "nbconvert_exporter": "python",
   "pygments_lexer": "ipython3",
   "version": "3.9.13"
  }
 },
 "nbformat": 4,
 "nbformat_minor": 2
}
