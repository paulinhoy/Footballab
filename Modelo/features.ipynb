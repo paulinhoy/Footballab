{
 "cells": [
  {
   "cell_type": "code",
   "execution_count": 1,
   "metadata": {},
   "outputs": [],
   "source": [
    "import pandas as pd\n",
    "pd.set_option('display.max_columns', None)\n",
    "from sklearn.model_selection import GridSearchCV, train_test_split\n",
    "from sklearn.ensemble import RandomForestClassifier\n",
    "from sklearn import metrics"
   ]
  },
  {
   "cell_type": "code",
   "execution_count": 20,
   "metadata": {},
   "outputs": [],
   "source": [
    "ano = [2017, 2018, 2019, 2020, 2021, 2022, 2023, 2024]\n",
    "List_AVG = ['rating','minutes','offsides','shots_total','shots_on','goals_total','goals_conceded','assists','saves','passes_total','passes_key','passes_accuracy','tackles_total','tackles_blocks','tackles_interceptions','duels_total','duels_won','dribbles_attempts','dribbles_success','dribbles_past','fouls_drawn','fouls_committed','cards_yellow','cards_red','penalty_won','penalty_committed','penalty_scored','penalty_missed','penalty_saved']"
   ]
  },
  {
   "cell_type": "code",
   "execution_count": 8,
   "metadata": {},
   "outputs": [],
   "source": [
    "# Lista de anos do campeonato brasileiro\n",
    "anos = [2017, 2018, 2019, 2020, 2021, 2022, 2023, 2024]\n",
    "\n",
    "# Loop único sobre cada ano\n",
    "for ano in anos:\n",
    "    # Carregar os DataFrames\n",
    "    globals()[f\"df_escalacao_{ano}\"] = pd.read_csv(f\"../Data/Camp_Brasileiro_{ano}_escalacao.csv\")\n",
    "    globals()[f\"df_team_stats_{ano}\"] = pd.read_csv(f\"../Data_Lake/Camp_Brasileiro/{ano}/Camp_Brasileiro_{ano}_team_stats_final.csv\")\n",
    "    globals()[f\"df_stats_{ano}\"] = pd.read_csv(f\"../Data_Lake/Camp_Brasileiro/{ano}/Camp_Brasileiro_{ano}_players_stats_final.csv\")\n",
    "    globals()[f\"df_Games_{ano}\"] = pd.read_csv(f\"../Data_Lake/Camp_Brasileiro/{ano}/Camp_Brasileiro_{ano}_Games_final.csv\")\n",
    "    \n",
    "    # Criar a lista de fixture_id diretamente no mesmo loop\n",
    "    globals()[f\"lista_games_{ano}\"] = globals()[f\"df_stats_{ano}\"]['fixture_id'].unique().tolist()"
   ]
  },
  {
   "cell_type": "code",
   "execution_count": null,
   "metadata": {},
   "outputs": [],
   "source": [
    "def calcular_media_stats(df, fixture_x, jogos_anteriores=5):\n",
    "    # Lista de jogadores que participaram do fixture_x\n",
    "    jogadores_em_x = df[df['fixture_id'] == fixture_x]['player_id'].unique()\n",
    "    \n",
    "    # Filtra os jogos anteriores dos jogadores de x\n",
    "    jogos_anteriores = df[(df['player_id'].isin(jogadores_em_x)) & (df['fixture_id'] < fixture_x)]\n",
    "    \n",
    "    # Ordena os jogos por jogador e fixture_id (cronologicamente)\n",
    "    jogos_ordenados = jogos_anteriores.sort_values(['player_id', 'fixture_id'])\n",
    "    \n",
    "    # Seleciona os três últimos jogos de cada jogador\n",
    "    ultimos_tres = jogos_ordenados.groupby('player_id').tail(jogos_anteriores)           #Quantos jogos vou pegar \n",
    "    \n",
    "    # Calcula a média das estatísticas\n",
    "    media_estatisticas = ultimos_tres.groupby(['player_id','team_id'])[List_AVG].mean().reset_index()\n",
    "    \n",
    "    # Garante todos os jogadores de x, mesmo sem jogos anteriores\n",
    "    resultado_final = pd.DataFrame({'player_id': jogadores_em_x})\n",
    "    resultado_final = resultado_final.merge(media_estatisticas, on='player_id', how='left')\n",
    "    \n",
    "    return resultado_final"
   ]
  },
  {
   "cell_type": "code",
   "execution_count": null,
   "metadata": {},
   "outputs": [],
   "source": []
  },
  {
   "cell_type": "code",
   "execution_count": 22,
   "metadata": {},
   "outputs": [],
   "source": [
    "import pandas as pd\n",
    "pd.set_option('display.max_columns', None)\n",
    "\n",
    "# Lista de colunas para cálculo da média (DEFINA ISSO!)\n",
    "List_AVG = ['gols', 'assistencias', 'finalizacoes_no_gol', 'passes_certos']\n",
    "\n",
    "# Dicionários para armazenar dados\n",
    "df_escalacao_dict = {}\n",
    "df_team_stats_dict = {}\n",
    "df_stats_dict = {}\n",
    "df_Games_dict = {}\n",
    "lista_games_dict = {}\n",
    "\n",
    "# Loop sobre os anos\n",
    "anos = [2017, 2018, 2019, 2020, 2021, 2022, 2023, 2024]\n",
    "for ano in anos:\n",
    "    try:\n",
    "        df_escalacao_dict[ano] = pd.read_csv(f\"../Data/Camp_Brasileiro_{ano}_escalacao.csv\")\n",
    "        df_team_stats_dict[ano] = pd.read_csv(f\"../Data_Lake/Camp_Brasileiro/{ano}/Camp_Brasileiro_{ano}_team_stats_final.csv\")\n",
    "        df_stats_dict[ano] = pd.read_csv(f\"../Data_Lake/Camp_Brasileiro/{ano}/Camp_Brasileiro_{ano}_players_stats_final.csv\")\n",
    "        df_Games_dict[ano] = pd.read_csv(f\"../Data_Lake/Camp_Brasileiro/{ano}/Camp_Brasileiro_{ano}_Games_final.csv\")\n",
    "        lista_games_dict[ano] = df_stats_dict[ano]['fixture_id'].unique().tolist()\n",
    "    except FileNotFoundError as e:\n",
    "        print(f\"Erro ao carregar dados de {ano}: {e}\")\n",
    "\n",
    "# Função com parâmetros flexíveis e tratamento de NaN\n",
    "def calcular_media_stats(df, fixture_x, jogos_anteriores=5):\n",
    "    jogadores_em_x = df[df['fixture_id'] == fixture_x]['player_id'].unique()\n",
    "    jogos_anteriores = df[(df['player_id'].isin(jogadores_em_x)) & (df['fixture_id'] < fixture_x)]\n",
    "    jogos_ordenados = jogos_anteriores.sort_values(['player_id', 'fixture_id'])\n",
    "    ultimos_tres = jogos_ordenados.groupby('player_id').tail(jogos_anteriores)\n",
    "    \n",
    "    if ultimos_tres.empty:\n",
    "        return pd.DataFrame({'player_id': jogadores_em_x}).fillna(0)\n",
    "    \n",
    "    media_estatisticas = ultimos_tres.groupby(['player_id', 'team_id'])[List_AVG].mean().reset_index()\n",
    "    resultado_final = pd.DataFrame({'player_id': jogadores_em_x})\n",
    "    resultado_final = resultado_final.merge(media_estatisticas, on='player_id', how='left').fillna(0)\n",
    "    \n",
    "    return resultado_final"
   ]
  },
  {
   "cell_type": "code",
   "execution_count": 24,
   "metadata": {},
   "outputs": [],
   "source": [
    "def calcular_media_stats(df, fixture_x, jogos_anteriores=5):\n",
    "    \"\"\"\n",
    "    Calcula a média das estatísticas dos jogadores nos jogos anteriores a um fixture específico.\n",
    "    \n",
    "    Parâmetros:\n",
    "        df (pd.DataFrame): DataFrame com estatísticas dos jogadores.\n",
    "        fixture_x (int): ID do fixture de referência.\n",
    "        jogos_anteriores (int): Número de jogos anteriores a considerar (padrão=5).\n",
    "    \n",
    "    Retorna:\n",
    "        pd.DataFrame: Médias das estatísticas por jogador.\n",
    "    \"\"\"\n",
    "    # Filtra os jogadores que participaram do fixture_x\n",
    "    jogadores_em_x = df[df['fixture_id'] == fixture_x]['player_id'].unique()\n",
    "    \n",
    "    # Filtra os jogos anteriores dos jogadores de x\n",
    "    jogos_anteriores = df[(df['player_id'].isin(jogadores_em_x)) & (df['fixture_id'] < fixture_x)]\n",
    "    \n",
    "    # Se não houver jogos anteriores, retorna um DataFrame vazio\n",
    "    if jogos_anteriores.empty:\n",
    "        print(f\"Nenhum jogo anterior encontrado para fixture {fixture_x}\")\n",
    "        return pd.DataFrame(columns=['player_id', 'team_id'] + List_AVG + ['fixture_id'])\n",
    "    \n",
    "    # Ordena os jogos por jogador e fixture_id (cronologicamente)\n",
    "    jogos_ordenados = jogos_anteriores.sort_values(['player_id', 'fixture_id'])\n",
    "    \n",
    "    # Seleciona os últimos jogos de cada jogador\n",
    "    ultimos_tres = jogos_ordenados.groupby('player_id').tail(jogos_anteriores)\n",
    "    \n",
    "    # Calcula a média das estatísticas\n",
    "    media_estatisticas = ultimos_tres.groupby(['player_id', 'team_id'])[List_AVG].mean().reset_index()\n",
    "    \n",
    "    # Garante todos os jogadores de x, mesmo sem jogos anteriores\n",
    "    resultado_final = pd.DataFrame({'player_id': jogadores_em_x})\n",
    "    resultado_final = resultado_final.merge(media_estatisticas, on='player_id', how='left').fillna(0)\n",
    "    \n",
    "    # Adiciona o fixture_id ao resultado\n",
    "    resultado_final['fixture_id'] = fixture_x\n",
    "    \n",
    "    return resultado_final"
   ]
  },
  {
   "cell_type": "code",
   "execution_count": 27,
   "metadata": {},
   "outputs": [
    {
     "ename": "ValueError",
     "evalue": "The truth value of a DataFrame is ambiguous. Use a.empty, a.bool(), a.item(), a.any() or a.all().",
     "output_type": "error",
     "traceback": [
      "\u001b[1;31m---------------------------------------------------------------------------\u001b[0m",
      "\u001b[1;31mValueError\u001b[0m                                Traceback (most recent call last)",
      "\u001b[1;32m~\\AppData\\Local\\Temp\\ipykernel_13612\\251165179.py\u001b[0m in \u001b[0;36m?\u001b[1;34m()\u001b[0m\n\u001b[1;32m----> 1\u001b[1;33m \u001b[0mcalcular_media_stats\u001b[0m\u001b[1;33m(\u001b[0m\u001b[0mdf_stats_dict\u001b[0m\u001b[1;33m[\u001b[0m\u001b[1;36m2024\u001b[0m\u001b[1;33m]\u001b[0m\u001b[1;33m,\u001b[0m\u001b[1;36m1180727\u001b[0m\u001b[1;33m,\u001b[0m\u001b[0mjogos_anteriores\u001b[0m\u001b[1;33m=\u001b[0m\u001b[1;36m5\u001b[0m\u001b[1;33m)\u001b[0m\u001b[1;33m\u001b[0m\u001b[1;33m\u001b[0m\u001b[0m\n\u001b[0m",
      "\u001b[1;32m~\\AppData\\Local\\Temp\\ipykernel_13612\\1880189032.py\u001b[0m in \u001b[0;36m?\u001b[1;34m(df, fixture_x, jogos_anteriores)\u001b[0m\n\u001b[0;32m     24\u001b[0m     \u001b[1;31m# Ordena os jogos por jogador e fixture_id (cronologicamente)\u001b[0m\u001b[1;33m\u001b[0m\u001b[1;33m\u001b[0m\u001b[0m\n\u001b[0;32m     25\u001b[0m     \u001b[0mjogos_ordenados\u001b[0m \u001b[1;33m=\u001b[0m \u001b[0mjogos_anteriores\u001b[0m\u001b[1;33m.\u001b[0m\u001b[0msort_values\u001b[0m\u001b[1;33m(\u001b[0m\u001b[1;33m[\u001b[0m\u001b[1;34m'player_id'\u001b[0m\u001b[1;33m,\u001b[0m \u001b[1;34m'fixture_id'\u001b[0m\u001b[1;33m]\u001b[0m\u001b[1;33m)\u001b[0m\u001b[1;33m\u001b[0m\u001b[1;33m\u001b[0m\u001b[0m\n\u001b[0;32m     26\u001b[0m \u001b[1;33m\u001b[0m\u001b[0m\n\u001b[0;32m     27\u001b[0m     \u001b[1;31m# Seleciona os últimos jogos de cada jogador\u001b[0m\u001b[1;33m\u001b[0m\u001b[1;33m\u001b[0m\u001b[0m\n\u001b[1;32m---> 28\u001b[1;33m     \u001b[0multimos_tres\u001b[0m \u001b[1;33m=\u001b[0m \u001b[0mjogos_ordenados\u001b[0m\u001b[1;33m.\u001b[0m\u001b[0mgroupby\u001b[0m\u001b[1;33m(\u001b[0m\u001b[1;34m'player_id'\u001b[0m\u001b[1;33m)\u001b[0m\u001b[1;33m.\u001b[0m\u001b[0mtail\u001b[0m\u001b[1;33m(\u001b[0m\u001b[0mjogos_anteriores\u001b[0m\u001b[1;33m)\u001b[0m\u001b[1;33m\u001b[0m\u001b[1;33m\u001b[0m\u001b[0m\n\u001b[0m\u001b[0;32m     29\u001b[0m \u001b[1;33m\u001b[0m\u001b[0m\n\u001b[0;32m     30\u001b[0m     \u001b[1;31m# Calcula a média das estatísticas\u001b[0m\u001b[1;33m\u001b[0m\u001b[1;33m\u001b[0m\u001b[0m\n\u001b[0;32m     31\u001b[0m     \u001b[0mmedia_estatisticas\u001b[0m \u001b[1;33m=\u001b[0m \u001b[0multimos_tres\u001b[0m\u001b[1;33m.\u001b[0m\u001b[0mgroupby\u001b[0m\u001b[1;33m(\u001b[0m\u001b[1;33m[\u001b[0m\u001b[1;34m'player_id'\u001b[0m\u001b[1;33m,\u001b[0m \u001b[1;34m'team_id'\u001b[0m\u001b[1;33m]\u001b[0m\u001b[1;33m)\u001b[0m\u001b[1;33m[\u001b[0m\u001b[0mList_AVG\u001b[0m\u001b[1;33m]\u001b[0m\u001b[1;33m.\u001b[0m\u001b[0mmean\u001b[0m\u001b[1;33m(\u001b[0m\u001b[1;33m)\u001b[0m\u001b[1;33m.\u001b[0m\u001b[0mreset_index\u001b[0m\u001b[1;33m(\u001b[0m\u001b[1;33m)\u001b[0m\u001b[1;33m\u001b[0m\u001b[1;33m\u001b[0m\u001b[0m\n",
      "\u001b[1;32mc:\\Users\\paulo\\OneDrive\\Área de Trabalho\\projetos\\Footballab\\.venv\\lib\\site-packages\\pandas\\core\\groupby\\groupby.py\u001b[0m in \u001b[0;36m?\u001b[1;34m(self, n)\u001b[0m\n\u001b[0;32m   5531\u001b[0m            \u001b[0mA\u001b[0m  \u001b[0mB\u001b[0m\u001b[1;33m\u001b[0m\u001b[1;33m\u001b[0m\u001b[0m\n\u001b[0;32m   5532\u001b[0m         \u001b[1;36m1\u001b[0m  \u001b[0ma\u001b[0m  \u001b[1;36m2\u001b[0m\u001b[1;33m\u001b[0m\u001b[1;33m\u001b[0m\u001b[0m\n\u001b[0;32m   5533\u001b[0m         \u001b[1;36m3\u001b[0m  \u001b[0mb\u001b[0m  \u001b[1;36m2\u001b[0m\u001b[1;33m\u001b[0m\u001b[1;33m\u001b[0m\u001b[0m\n\u001b[0;32m   5534\u001b[0m         \"\"\"\n\u001b[1;32m-> 5535\u001b[1;33m         \u001b[1;32mif\u001b[0m \u001b[0mn\u001b[0m\u001b[1;33m:\u001b[0m\u001b[1;33m\u001b[0m\u001b[1;33m\u001b[0m\u001b[0m\n\u001b[0m\u001b[0;32m   5536\u001b[0m             \u001b[0mmask\u001b[0m \u001b[1;33m=\u001b[0m \u001b[0mself\u001b[0m\u001b[1;33m.\u001b[0m\u001b[0m_make_mask_from_positional_indexer\u001b[0m\u001b[1;33m(\u001b[0m\u001b[0mslice\u001b[0m\u001b[1;33m(\u001b[0m\u001b[1;33m-\u001b[0m\u001b[0mn\u001b[0m\u001b[1;33m,\u001b[0m \u001b[1;32mNone\u001b[0m\u001b[1;33m)\u001b[0m\u001b[1;33m)\u001b[0m\u001b[1;33m\u001b[0m\u001b[1;33m\u001b[0m\u001b[0m\n\u001b[0;32m   5537\u001b[0m         \u001b[1;32melse\u001b[0m\u001b[1;33m:\u001b[0m\u001b[1;33m\u001b[0m\u001b[1;33m\u001b[0m\u001b[0m\n\u001b[0;32m   5538\u001b[0m             \u001b[0mmask\u001b[0m \u001b[1;33m=\u001b[0m \u001b[0mself\u001b[0m\u001b[1;33m.\u001b[0m\u001b[0m_make_mask_from_positional_indexer\u001b[0m\u001b[1;33m(\u001b[0m\u001b[1;33m[\u001b[0m\u001b[1;33m]\u001b[0m\u001b[1;33m)\u001b[0m\u001b[1;33m\u001b[0m\u001b[1;33m\u001b[0m\u001b[0m\n",
      "\u001b[1;32mc:\\Users\\paulo\\OneDrive\\Área de Trabalho\\projetos\\Footballab\\.venv\\lib\\site-packages\\pandas\\core\\generic.py\u001b[0m in \u001b[0;36m?\u001b[1;34m(self)\u001b[0m\n\u001b[0;32m   1575\u001b[0m     \u001b[1;33m@\u001b[0m\u001b[0mfinal\u001b[0m\u001b[1;33m\u001b[0m\u001b[1;33m\u001b[0m\u001b[0m\n\u001b[0;32m   1576\u001b[0m     \u001b[1;32mdef\u001b[0m \u001b[0m__nonzero__\u001b[0m\u001b[1;33m(\u001b[0m\u001b[0mself\u001b[0m\u001b[1;33m)\u001b[0m \u001b[1;33m->\u001b[0m \u001b[0mNoReturn\u001b[0m\u001b[1;33m:\u001b[0m\u001b[1;33m\u001b[0m\u001b[1;33m\u001b[0m\u001b[0m\n\u001b[1;32m-> 1577\u001b[1;33m         raise ValueError(\n\u001b[0m\u001b[0;32m   1578\u001b[0m             \u001b[1;34mf\"The truth value of a {type(self).__name__} is ambiguous. \"\u001b[0m\u001b[1;33m\u001b[0m\u001b[1;33m\u001b[0m\u001b[0m\n\u001b[0;32m   1579\u001b[0m             \u001b[1;34m\"Use a.empty, a.bool(), a.item(), a.any() or a.all().\"\u001b[0m\u001b[1;33m\u001b[0m\u001b[1;33m\u001b[0m\u001b[0m\n\u001b[0;32m   1580\u001b[0m         )\n",
      "\u001b[1;31mValueError\u001b[0m: The truth value of a DataFrame is ambiguous. Use a.empty, a.bool(), a.item(), a.any() or a.all()."
     ]
    }
   ],
   "source": [
    "calcular_media_stats(df_stats_dict[2024],1180727,jogos_anteriores=5)"
   ]
  },
  {
   "cell_type": "code",
   "execution_count": null,
   "metadata": {},
   "outputs": [],
   "source": [
    "# Lista para armazenar os DataFrames de cada fixture\n",
    "lista_dfs = []\n",
    "\n",
    "# Iterar sobre cada fixture_id na lista_games_2024\n",
    "for fixture_x in lista_games_2024:\n",
    "    # Calcular a média dos últimos três jogos para o fixture atual\n",
    "    df_medias = calcular_media_stats(df_stats, fixture_x)\n",
    "    \n",
    "    # Adicionar a coluna 'fixture_id' ao DataFrame resultante (para identificar o jogo)\n",
    "    df_medias['fixture_id'] = fixture_x\n",
    "    \n",
    "    # Adicionar à lista\n",
    "    lista_dfs.append(df_medias)\n",
    "\n",
    "# Concatenar todos os DataFrames da lista em um único df_features\n",
    "df_features = pd.concat(lista_dfs, ignore_index=True)"
   ]
  }
 ],
 "metadata": {
  "kernelspec": {
   "display_name": ".venv",
   "language": "python",
   "name": "python3"
  },
  "language_info": {
   "codemirror_mode": {
    "name": "ipython",
    "version": 3
   },
   "file_extension": ".py",
   "mimetype": "text/x-python",
   "name": "python",
   "nbconvert_exporter": "python",
   "pygments_lexer": "ipython3",
   "version": "3.9.13"
  }
 },
 "nbformat": 4,
 "nbformat_minor": 2
}
